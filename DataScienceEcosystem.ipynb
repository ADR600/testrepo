{
 "cells": [
  {
   "cell_type": "markdown",
   "id": "c6bbf519-ea41-4bdf-b404-85e42fbf2fc6",
   "metadata": {},
   "source": [
    "# H1 : Data Science Tolls and Ecosystem"
   ]
  },
  {
   "cell_type": "markdown",
   "id": "bf29494c-3029-42c8-b279-96b928dfb165",
   "metadata": {},
   "source": [
    "In this notebook, Data Science Tools and Ecosystem are summarized."
   ]
  },
  {
   "cell_type": "markdown",
   "id": "233d2ce8-fef1-4404-b06e-9f58fa27d88e",
   "metadata": {},
   "source": [
    "Some of the popular langauges that Data Scientists use are :\n",
    "1. Python\n",
    "2. R\n",
    "3. SQL\n",
    "4. Java"
   ]
  },
  {
   "cell_type": "markdown",
   "id": "40c085c9-8186-49df-8047-da0c979a7e3a",
   "metadata": {},
   "source": [
    "Some of the commonly used libraries used by Data Scientists include:\n",
    "1. Pandas\n",
    "2. Numpy\n",
    "3. Matplot\n",
    "\n"
   ]
  },
  {
   "cell_type": "markdown",
   "id": "20d5533f-bffc-4042-9a50-78ff97651f36",
   "metadata": {},
   "source": [
    "|Data Science Tools|\n",
    "|------------------|\n",
    "|RStudio|\n",
    "|GitHub|\n",
    "|Anaconda|"
   ]
  },
  {
   "cell_type": "markdown",
   "id": "3e2c8288-e7da-4ffb-a9d7-711eaf6ec098",
   "metadata": {},
   "source": [
    "### H3 :Below are a few examples of evaluating arithmetic expressions in Python\n"
   ]
  },
  {
   "cell_type": "code",
   "execution_count": 11,
   "id": "71d6446c-6c2f-4eef-be1a-a89b0255bc3e",
   "metadata": {
    "tags": []
   },
   "outputs": [
    {
     "data": {
      "text/plain": [
       "17"
      ]
     },
     "execution_count": 11,
     "metadata": {},
     "output_type": "execute_result"
    }
   ],
   "source": [
    "(3*4)+5\n",
    "#This a simple arithmetic expression to mutiply then add integers\n"
   ]
  },
  {
   "cell_type": "code",
   "execution_count": 15,
   "id": "6caecd7d-6181-43bf-be09-726a128197ae",
   "metadata": {
    "tags": []
   },
   "outputs": [
    {
     "name": "stdin",
     "output_type": "stream",
     "text": [
      "Enter in minutes  200\n"
     ]
    },
    {
     "name": "stdout",
     "output_type": "stream",
     "text": [
      "3.3333333333333335\n"
     ]
    }
   ],
   "source": [
    "minutes= int(input(\"Enter in minutes \"))\n",
    "#This will convert 200 minutes to hours by diving by 60\n",
    "hours= minutes /60 \n",
    "print(hours)\n"
   ]
  },
  {
   "cell_type": "markdown",
   "id": "02c6226e-2079-4ffb-8202-b7b463ae5d9a",
   "metadata": {},
   "source": [
    "## H2 :Author\n",
    "Ankith\n"
   ]
  },
  {
   "cell_type": "code",
   "execution_count": null,
   "id": "66247707-13c2-420d-ad25-3eafb5ed2aab",
   "metadata": {},
   "outputs": [],
   "source": []
  }
 ],
 "metadata": {
  "kernelspec": {
   "display_name": "Python 3 (ipykernel)",
   "language": "python",
   "name": "python3"
  },
  "language_info": {
   "codemirror_mode": {
    "name": "ipython",
    "version": 3
   },
   "file_extension": ".py",
   "mimetype": "text/x-python",
   "name": "python",
   "nbconvert_exporter": "python",
   "pygments_lexer": "ipython3",
   "version": "3.10.9"
  }
 },
 "nbformat": 4,
 "nbformat_minor": 5
}
